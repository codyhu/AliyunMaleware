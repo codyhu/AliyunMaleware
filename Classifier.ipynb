{
 "cells": [
  {
   "cell_type": "code",
   "execution_count": 1,
   "metadata": {},
   "outputs": [],
   "source": [
    "import pandas as pd\n",
    "import numpy as np\n",
    "import xgboost as xgb\n",
    "from sklearn.metrics import log_loss\n",
    "from sklearn.model_selection import StratifiedKFold"
   ]
  },
  {
   "cell_type": "code",
   "execution_count": 2,
   "metadata": {},
   "outputs": [],
   "source": [
    "FEATURE_PATH = './feature/'\n",
    "RESULT_PATH = './result/'"
   ]
  },
  {
   "cell_type": "code",
   "execution_count": 3,
   "metadata": {},
   "outputs": [],
   "source": [
    "# define the number of iterations\n",
    "ROUND = 1000"
   ]
  },
  {
   "cell_type": "code",
   "execution_count": 4,
   "metadata": {},
   "outputs": [],
   "source": [
    "# configuration the parameters of xgboost\n",
    "xgb_params = {'objective':'multi:softprob',\n",
    "              'num_class': 8,\n",
    "              'eta': 0.04,\n",
    "              'max_depth':6,\n",
    "              'subsample':0.9,\n",
    "              'colsample_bytree': 0.7,\n",
    "              'lambda': 2,\n",
    "              'alpha': 2,\n",
    "              'gamma': 1,\n",
    "              'scale_pos_weight': 20,\n",
    "              'eval_metric': 'mlogloss',\n",
    "              'silent': 0,\n",
    "              'seed': 149}"
   ]
  },
  {
   "cell_type": "code",
   "execution_count": 5,
   "metadata": {},
   "outputs": [],
   "source": [
    "\n",
    "def xgb_train(X_train, X_val, y_train, y_val, test, num_round):\n",
    "    # multi-class model\n",
    "    dtrain = xgb.DMatrix(X_train, y_train)\n",
    "    dval = xgb.DMatrix(X_val, y_val)\n",
    "    dtest = xgb.DMatrix(test.drop(['file_id'], axis=1))\n",
    "    watchlist = [(dtrain, 'train'), (dval, 'val')]\n",
    "    model = xgb.train(xgb_params, dtrain, num_round, evals=watchlist, early_stopping_rounds=100, verbose_eval=100)\n",
    "    p_val = pd.DataFrame(model.predict(dval, ntree_limit=model.best_iteration), index=X_val.index)\n",
    "    p_test = pd.DataFrame(model.predict(dtest, ntree_limit=model.best_iteration), index=test.index)\n",
    "    return (model, p_val, p_test)"
   ]
  },
  {
   "cell_type": "markdown",
   "metadata": {},
   "source": [
    "run"
   ]
  },
  {
   "cell_type": "code",
   "execution_count": 6,
   "metadata": {},
   "outputs": [],
   "source": [
    "# load feature v1\n",
    "train_1 = pd.read_csv(FEATURE_PATH + 'train_base_features_v1.csv')\n",
    "test_1 = pd.read_csv(FEATURE_PATH + 'test_base_features_v1.csv')"
   ]
  },
  {
   "cell_type": "code",
   "execution_count": 7,
   "metadata": {},
   "outputs": [],
   "source": [
    "# load feature v2\n",
    "train_2 = pd.read_csv(FEATURE_PATH + 'train_base_features_v2.csv')\n",
    "test_2 = pd.read_csv(FEATURE_PATH + 'test_base_features_v2.csv')"
   ]
  },
  {
   "cell_type": "code",
   "execution_count": 8,
   "metadata": {},
   "outputs": [],
   "source": [
    "interaction_feat = train_2.columns[train_2.columns.isin(test_2.columns.values)].values\n",
    "train_2 = train_2[interaction_feat]\n",
    "test_2 = test_2[interaction_feat]"
   ]
  },
  {
   "cell_type": "code",
   "execution_count": 9,
   "metadata": {},
   "outputs": [],
   "source": [
    " # merge all features\n",
    "train = train_1.merge(train_2, on=['file_id'], how='left')\n",
    "test = test_1.merge(test_2, on=['file_id'], how='left')"
   ]
  },
  {
   "cell_type": "code",
   "execution_count": 10,
   "metadata": {},
   "outputs": [],
   "source": [
    "# train data prepare\n",
    "X = train.drop(['file_id', 'label'], axis=1)\n",
    "y = train['label']"
   ]
  },
  {
   "cell_type": "code",
   "execution_count": 11,
   "metadata": {},
   "outputs": [
    {
     "name": "stdout",
     "output_type": "stream",
     "text": [
      "Loading complete\n"
     ]
    }
   ],
   "source": [
    "# add one_vs_rest prob\n",
    "extra_feat_val = pd.read_csv(FEATURE_PATH + 'tr_lr_oof_prob.csv')\n",
    "extra_feat_test = pd.read_csv(FEATURE_PATH + 'te_lr_oof_prob.csv')\n",
    "prob_list = ['prob' + str(i) for i in range(1)]\n",
    "X_extra = pd.concat([X, extra_feat_val[prob_list]], axis=1)\n",
    "test_extra = pd.concat([test, extra_feat_test[prob_list]], axis=1)\n",
    "print(\"Loading complete\")"
   ]
  },
  {
   "cell_type": "code",
   "execution_count": 12,
   "metadata": {},
   "outputs": [],
   "source": [
    "# multi-class model training\n",
    "logloss_rlt = []\n",
    "p_val_all = pd.DataFrame()\n",
    "# 8 catagories\n",
    "p_test_all = pd.DataFrame(np.zeros((test.shape[0], 8)))\n",
    "skf = StratifiedKFold(n_splits=5, random_state=4, shuffle=True)"
   ]
  },
  {
   "cell_type": "code",
   "execution_count": 13,
   "metadata": {},
   "outputs": [
    {
     "name": "stdout",
     "output_type": "stream",
     "text": [
      "FOLD - 0  Start...\n"
     ]
    },
    {
     "name": "stderr",
     "output_type": "stream",
     "text": [
      "/home/cody/anaconda2/envs/py35/lib/python3.5/site-packages/xgboost/core.py:587: FutureWarning: Series.base is deprecated and will be removed in a future version\n",
      "  if getattr(data, 'base', None) is not None and \\\n"
     ]
    },
    {
     "name": "stdout",
     "output_type": "stream",
     "text": [
      "[0]\ttrain-mlogloss:1.95485\tval-mlogloss:1.95782\n",
      "Multiple eval metrics have been passed: 'val-mlogloss' will be used for early stopping.\n",
      "\n",
      "Will train until val-mlogloss hasn't improved in 100 rounds.\n",
      "[100]\ttrain-mlogloss:0.233092\tval-mlogloss:0.34075\n",
      "[200]\ttrain-mlogloss:0.143921\tval-mlogloss:0.291105\n",
      "[300]\ttrain-mlogloss:0.119687\tval-mlogloss:0.286073\n",
      "[400]\ttrain-mlogloss:0.110559\tval-mlogloss:0.2853\n",
      "Stopping. Best iteration:\n",
      "[389]\ttrain-mlogloss:0.111148\tval-mlogloss:0.285177\n",
      "\n",
      "----------------log_loss :  0.2852046909523883  ---------------------\n",
      "FOLD - 1  Start...\n"
     ]
    },
    {
     "name": "stderr",
     "output_type": "stream",
     "text": [
      "/home/cody/anaconda2/envs/py35/lib/python3.5/site-packages/xgboost/core.py:587: FutureWarning: Series.base is deprecated and will be removed in a future version\n",
      "  if getattr(data, 'base', None) is not None and \\\n"
     ]
    },
    {
     "name": "stdout",
     "output_type": "stream",
     "text": [
      "[0]\ttrain-mlogloss:1.95542\tval-mlogloss:1.95779\n",
      "Multiple eval metrics have been passed: 'val-mlogloss' will be used for early stopping.\n",
      "\n",
      "Will train until val-mlogloss hasn't improved in 100 rounds.\n",
      "[100]\ttrain-mlogloss:0.233416\tval-mlogloss:0.3397\n",
      "[200]\ttrain-mlogloss:0.143979\tval-mlogloss:0.298327\n",
      "[300]\ttrain-mlogloss:0.119003\tval-mlogloss:0.29475\n",
      "[400]\ttrain-mlogloss:0.109526\tval-mlogloss:0.294334\n",
      "Stopping. Best iteration:\n",
      "[342]\ttrain-mlogloss:0.114018\tval-mlogloss:0.294158\n",
      "\n",
      "----------------log_loss :  0.29417411262482324  ---------------------\n",
      "FOLD - 2  Start...\n"
     ]
    },
    {
     "name": "stderr",
     "output_type": "stream",
     "text": [
      "/home/cody/anaconda2/envs/py35/lib/python3.5/site-packages/xgboost/core.py:587: FutureWarning: Series.base is deprecated and will be removed in a future version\n",
      "  if getattr(data, 'base', None) is not None and \\\n"
     ]
    },
    {
     "name": "stdout",
     "output_type": "stream",
     "text": [
      "[0]\ttrain-mlogloss:1.96065\tval-mlogloss:1.96397\n",
      "Multiple eval metrics have been passed: 'val-mlogloss' will be used for early stopping.\n",
      "\n",
      "Will train until val-mlogloss hasn't improved in 100 rounds.\n",
      "[100]\ttrain-mlogloss:0.237949\tval-mlogloss:0.327613\n",
      "[200]\ttrain-mlogloss:0.148979\tval-mlogloss:0.277338\n",
      "[300]\ttrain-mlogloss:0.123847\tval-mlogloss:0.272238\n",
      "[400]\ttrain-mlogloss:0.113911\tval-mlogloss:0.271128\n",
      "[500]\ttrain-mlogloss:0.108479\tval-mlogloss:0.271248\n",
      "Stopping. Best iteration:\n",
      "[443]\ttrain-mlogloss:0.110958\tval-mlogloss:0.271018\n",
      "\n",
      "----------------log_loss :  0.2710207086031947  ---------------------\n",
      "FOLD - 3  Start...\n"
     ]
    },
    {
     "name": "stderr",
     "output_type": "stream",
     "text": [
      "/home/cody/anaconda2/envs/py35/lib/python3.5/site-packages/xgboost/core.py:587: FutureWarning: Series.base is deprecated and will be removed in a future version\n",
      "  if getattr(data, 'base', None) is not None and \\\n"
     ]
    },
    {
     "name": "stdout",
     "output_type": "stream",
     "text": [
      "[0]\ttrain-mlogloss:1.96057\tval-mlogloss:1.96449\n",
      "Multiple eval metrics have been passed: 'val-mlogloss' will be used for early stopping.\n",
      "\n",
      "Will train until val-mlogloss hasn't improved in 100 rounds.\n",
      "[100]\ttrain-mlogloss:0.233083\tval-mlogloss:0.344684\n",
      "[200]\ttrain-mlogloss:0.14366\tval-mlogloss:0.298305\n",
      "[300]\ttrain-mlogloss:0.118976\tval-mlogloss:0.293352\n",
      "[400]\ttrain-mlogloss:0.109688\tval-mlogloss:0.292324\n",
      "[500]\ttrain-mlogloss:0.104523\tval-mlogloss:0.292122\n",
      "Stopping. Best iteration:\n",
      "[468]\ttrain-mlogloss:0.105844\tval-mlogloss:0.291964\n",
      "\n",
      "----------------log_loss :  0.2920076645576843  ---------------------\n",
      "FOLD - 4  Start...\n"
     ]
    },
    {
     "name": "stderr",
     "output_type": "stream",
     "text": [
      "/home/cody/anaconda2/envs/py35/lib/python3.5/site-packages/xgboost/core.py:587: FutureWarning: Series.base is deprecated and will be removed in a future version\n",
      "  if getattr(data, 'base', None) is not None and \\\n"
     ]
    },
    {
     "name": "stdout",
     "output_type": "stream",
     "text": [
      "[0]\ttrain-mlogloss:1.95563\tval-mlogloss:1.95807\n",
      "Multiple eval metrics have been passed: 'val-mlogloss' will be used for early stopping.\n",
      "\n",
      "Will train until val-mlogloss hasn't improved in 100 rounds.\n",
      "[100]\ttrain-mlogloss:0.236609\tval-mlogloss:0.321286\n",
      "[200]\ttrain-mlogloss:0.147186\tval-mlogloss:0.270817\n",
      "[300]\ttrain-mlogloss:0.122082\tval-mlogloss:0.265498\n",
      "[400]\ttrain-mlogloss:0.112506\tval-mlogloss:0.264794\n",
      "[500]\ttrain-mlogloss:0.1079\tval-mlogloss:0.264828\n",
      "Stopping. Best iteration:\n",
      "[404]\ttrain-mlogloss:0.112273\tval-mlogloss:0.264727\n",
      "\n",
      "----------------log_loss :  0.26475537604415317  ---------------------\n"
     ]
    }
   ],
   "source": [
    " # start 5-fold CV\n",
    "for fold_i, (tr_index, val_index) in enumerate(skf.split(X, y)):\n",
    "    print('FOLD -', fold_i, ' Start...')\n",
    "    # Prepare train, val dataset\n",
    "    X_train, X_val = X_extra.iloc[tr_index, :], X_extra.iloc[val_index, :]\n",
    "    y_train, y_val = y[tr_index], y[val_index]\n",
    "    # Train model\n",
    "\n",
    "    model, p_val, p_test = xgb_train(X_train, X_val, y_train, y_val, test_extra, ROUND)\n",
    "    # Evaluate Model and Concatenate Val-Prediction\n",
    "    m_log_loss = log_loss(y_val, p_val)\n",
    "    print('----------------log_loss : ', m_log_loss, ' ---------------------')\n",
    "    logloss_rlt = logloss_rlt + [m_log_loss]\n",
    "    truth_prob_df = pd.concat([y_val, p_val], axis=1)\n",
    "    p_val_all = pd.concat([p_val_all, truth_prob_df], axis=0)\n",
    "    # Predict Test Dataset\n",
    "    p_test_all = p_test_all + 0.2 * p_test"
   ]
  },
  {
   "cell_type": "code",
   "execution_count": 15,
   "metadata": {},
   "outputs": [],
   "source": [
    " # generate submit file\n",
    "rlt = pd.concat([test['file_id'], p_test_all], axis=1)\n",
    "prob_list = ['prob' + str(i) for i in range(8)]\n",
    "rlt.columns = ['file_id'] + prob_list\n",
    "rlt.to_csv(RESULT_PATH + 'submit.csv', index=None)"
   ]
  },
  {
   "cell_type": "code",
   "execution_count": null,
   "metadata": {},
   "outputs": [],
   "source": []
  }
 ],
 "metadata": {
  "kernelspec": {
   "display_name": "Python 3",
   "language": "python",
   "name": "python3"
  },
  "language_info": {
   "codemirror_mode": {
    "name": "ipython",
    "version": 3
   },
   "file_extension": ".py",
   "mimetype": "text/x-python",
   "name": "python",
   "nbconvert_exporter": "python",
   "pygments_lexer": "ipython3",
   "version": "3.5.4"
  }
 },
 "nbformat": 4,
 "nbformat_minor": 2
}
